{
 "cells": [
  {
   "cell_type": "markdown",
   "id": "c5d25a08",
   "metadata": {},
   "source": [
    "# Example 1: constant current discharge\n",
    "\n",
    "First we import PyBaMM"
   ]
  },
  {
   "cell_type": "code",
   "execution_count": 1,
   "id": "4cad9ceb",
   "metadata": {},
   "outputs": [],
   "source": [
    "import pybamm"
   ]
  },
  {
   "cell_type": "markdown",
   "id": "533873ba",
   "metadata": {},
   "source": [
    "We then choose a model. We will choose the Doyle-Fuller-Newman model with all the default options. This is the model defined in the BPX standard."
   ]
  },
  {
   "cell_type": "code",
   "execution_count": 2,
   "id": "d49db6d2",
   "metadata": {},
   "outputs": [],
   "source": [
    "model = pybamm.lithium_ion.DFN()"
   ]
  },
  {
   "cell_type": "markdown",
   "id": "f30ec7e4",
   "metadata": {},
   "source": [
    "Next we load our parameter values from the BPX JSON file by parsing the filename to the `create_from_bpx` method of PyBaMM's `ParameterValues` class"
   ]
  },
  {
   "cell_type": "code",
   "execution_count": 3,
   "id": "0cd50714",
   "metadata": {},
   "outputs": [],
   "source": [
    "parameter_values = pybamm.ParameterValues.create_from_bpx(\"example-params.json\")"
   ]
  },
  {
   "cell_type": "markdown",
   "id": "a3067be1",
   "metadata": {},
   "source": [
    "We then create a simulation. By default this will be a 1C constant current discharge, but much more customisation is available. In the following examples we will see how to define our own experimental protocols."
   ]
  },
  {
   "cell_type": "code",
   "execution_count": 4,
   "id": "cccef7fe",
   "metadata": {},
   "outputs": [],
   "source": [
    "sim = pybamm.Simulation(model, parameter_values=parameter_values)"
   ]
  },
  {
   "cell_type": "markdown",
   "id": "64ea619b",
   "metadata": {},
   "source": [
    "We then solve our simulation, specifying the duration"
   ]
  },
  {
   "cell_type": "code",
   "execution_count": 5,
   "id": "f69c073b",
   "metadata": {},
   "outputs": [
    {
     "data": {
      "text/plain": [
       "<pybamm.solvers.solution.Solution at 0x7fc63cff4cd0>"
      ]
     },
     "execution_count": 5,
     "metadata": {},
     "output_type": "execute_result"
    }
   ],
   "source": [
    "sim.solve([0, 3600])"
   ]
  },
  {
   "cell_type": "markdown",
   "id": "b4a5df5b",
   "metadata": {},
   "source": [
    "Finally we can quickly create a plot of the results"
   ]
  },
  {
   "cell_type": "code",
   "execution_count": 7,
   "id": "eedaf536",
   "metadata": {},
   "outputs": [
    {
     "data": {
      "application/vnd.jupyter.widget-view+json": {
       "model_id": "dff7ec309a804347b41a191001eab5e2",
       "version_major": 2,
       "version_minor": 0
      },
      "text/plain": [
       "interactive(children=(FloatSlider(value=0.0, description='t', max=1.0, step=0.01), Output()), _dom_classes=('w…"
      ]
     },
     "metadata": {},
     "output_type": "display_data"
    }
   ],
   "source": [
    "sim.plot();"
   ]
  },
  {
   "cell_type": "markdown",
   "id": "28f5ba5f",
   "metadata": {},
   "source": [
    "For more detailed information on using PyBaMM please visit the [website](www.pybamm.org)."
   ]
  },
  {
   "cell_type": "code",
   "execution_count": null,
   "id": "da18a3ee",
   "metadata": {},
   "outputs": [],
   "source": []
  }
 ],
 "metadata": {
  "kernelspec": {
   "display_name": "Python 3 (ipykernel)",
   "language": "python",
   "name": "python3"
  },
  "language_info": {
   "codemirror_mode": {
    "name": "ipython",
    "version": 3
   },
   "file_extension": ".py",
   "mimetype": "text/x-python",
   "name": "python",
   "nbconvert_exporter": "python",
   "pygments_lexer": "ipython3",
   "version": "3.8.15"
  }
 },
 "nbformat": 4,
 "nbformat_minor": 5
}
